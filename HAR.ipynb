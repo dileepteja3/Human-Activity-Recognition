{
 "cells": [
  {
   "cell_type": "code",
   "execution_count": 1,
   "metadata": {
    "collapsed": true
   },
   "outputs": [],
   "source": [
    "# Importing Libraries"
   ]
  },
  {
   "cell_type": "code",
   "execution_count": 2,
   "metadata": {},
   "outputs": [],
   "source": [
    "import pandas as pd\n",
    "import numpy as np"
   ]
  },
  {
   "cell_type": "code",
   "execution_count": 3,
   "metadata": {},
   "outputs": [],
   "source": [
    "# Activities are the class labels\n",
    "# It is a 6 class classification\n",
    "ACTIVITIES = {\n",
    "    0: 'WALKING',\n",
    "    1: 'WALKING_UPSTAIRS',\n",
    "    2: 'WALKING_DOWNSTAIRS',\n",
    "    3: 'SITTING',\n",
    "    4: 'STANDING',\n",
    "    5: 'LAYING',\n",
    "}\n",
    "\n",
    "# Utility function to print the confusion matrix\n",
    "def confusion_matrix(Y_true, Y_pred):\n",
    "    Y_true = pd.Series([ACTIVITIES[y] for y in np.argmax(Y_true, axis=1)])\n",
    "    Y_pred = pd.Series([ACTIVITIES[y] for y in np.argmax(Y_pred, axis=1)])\n",
    "\n",
    "    return pd.crosstab(Y_true, Y_pred, rownames=['True'], colnames=['Pred'])"
   ]
  },
  {
   "cell_type": "markdown",
   "metadata": {},
   "source": [
    "### Data"
   ]
  },
  {
   "cell_type": "code",
   "execution_count": 4,
   "metadata": {},
   "outputs": [],
   "source": [
    "# Data directory\n",
    "DATADIR = 'UCI_HAR_Dataset'"
   ]
  },
  {
   "cell_type": "code",
   "execution_count": 5,
   "metadata": {},
   "outputs": [],
   "source": [
    "# Raw data signals\n",
    "# Signals are from Accelerometer and Gyroscope\n",
    "# The signals are in x,y,z directions\n",
    "# Sensor signals are filtered to have only body acceleration\n",
    "# excluding the acceleration due to gravity\n",
    "# Triaxial acceleration from the accelerometer is total acceleration\n",
    "SIGNALS = [\n",
    "    \"body_acc_x\",\n",
    "    \"body_acc_y\",\n",
    "    \"body_acc_z\",\n",
    "    \"body_gyro_x\",\n",
    "    \"body_gyro_y\",\n",
    "    \"body_gyro_z\",\n",
    "    \"total_acc_x\",\n",
    "    \"total_acc_y\",\n",
    "    \"total_acc_z\"\n",
    "]"
   ]
  },
  {
   "cell_type": "code",
   "execution_count": 6,
   "metadata": {},
   "outputs": [],
   "source": [
    "# Utility function to read the data from csv file\n",
    "def _read_csv(filename):\n",
    "    return pd.read_csv(filename, delim_whitespace=True, header=None)\n",
    "\n",
    "# Utility function to load the load\n",
    "def load_signals(subset):\n",
    "    signals_data = []\n",
    "\n",
    "    for signal in SIGNALS:\n",
    "        filename = f'UCI_HAR_Dataset/{subset}/Inertial Signals/{signal}_{subset}.txt'\n",
    "        signals_data.append(\n",
    "            _read_csv(filename).as_matrix()\n",
    "        ) \n",
    "\n",
    "    # Transpose is used to change the dimensionality of the output,\n",
    "    # aggregating the signals by combination of sample/timestep.\n",
    "    # Resultant shape is (7352 train/2947 test samples, 128 timesteps, 9 signals)\n",
    "    return np.transpose(signals_data, (1, 2, 0))"
   ]
  },
  {
   "cell_type": "code",
   "execution_count": 7,
   "metadata": {},
   "outputs": [],
   "source": [
    "\n",
    "def load_y(subset):\n",
    "    \"\"\"\n",
    "    The objective that we are trying to predict is a integer, from 1 to 6,\n",
    "    that represents a human activity. We return a binary representation of \n",
    "    every sample objective as a 6 bits vector using One Hot Encoding\n",
    "    (https://pandas.pydata.org/pandas-docs/stable/generated/pandas.get_dummies.html)\n",
    "    \"\"\"\n",
    "    filename = f'UCI_HAR_Dataset/{subset}/y_{subset}.txt'\n",
    "    y = _read_csv(filename)[0]\n",
    "\n",
    "    return pd.get_dummies(y).as_matrix()"
   ]
  },
  {
   "cell_type": "code",
   "execution_count": 8,
   "metadata": {},
   "outputs": [],
   "source": [
    "def load_data():\n",
    "    \"\"\"\n",
    "    Obtain the dataset from multiple files.\n",
    "    Returns: X_train, X_test, y_train, y_test\n",
    "    \"\"\"\n",
    "    X_train, X_test = load_signals('train'), load_signals('test')\n",
    "    y_train, y_test = load_y('train'), load_y('test')\n",
    "\n",
    "    return X_train, X_test, y_train, y_test"
   ]
  },
  {
   "cell_type": "code",
   "execution_count": 9,
   "metadata": {},
   "outputs": [],
   "source": [
    "# Importing tensorflow\n",
    "np.random.seed(42)\n",
    "import tensorflow as tf\n",
    "tf.set_random_seed(42)"
   ]
  },
  {
   "cell_type": "code",
   "execution_count": 10,
   "metadata": {},
   "outputs": [],
   "source": [
    "# Configuring a session\n",
    "session_conf = tf.ConfigProto(\n",
    "    intra_op_parallelism_threads=1,\n",
    "    inter_op_parallelism_threads=1\n",
    ")"
   ]
  },
  {
   "cell_type": "code",
   "execution_count": 11,
   "metadata": {},
   "outputs": [],
   "source": [
    "# Import Keras\n",
    "from keras import backend as K\n",
    "sess = tf.Session(graph=tf.get_default_graph(), config=session_conf)\n",
    "K.set_session(sess)"
   ]
  },
  {
   "cell_type": "code",
   "execution_count": 12,
   "metadata": {},
   "outputs": [],
   "source": [
    "# Importing libraries\n",
    "from keras.models import Sequential\n",
    "from keras.layers import LSTM\n",
    "from keras.layers.core import Dense, Dropout"
   ]
  },
  {
   "cell_type": "code",
   "execution_count": 13,
   "metadata": {},
   "outputs": [],
   "source": [
    "# Initializing parameters\n",
    "epochs = 30\n",
    "batch_size = 16\n",
    "n_hidden = 32"
   ]
  },
  {
   "cell_type": "code",
   "execution_count": 14,
   "metadata": {},
   "outputs": [],
   "source": [
    "# Utility function to count the number of classes\n",
    "def _count_classes(y):\n",
    "    return len(set([tuple(category) for category in y]))"
   ]
  },
  {
   "cell_type": "code",
   "execution_count": 15,
   "metadata": {},
   "outputs": [
    {
     "name": "stderr",
     "output_type": "stream",
     "text": [
      "C:\\Users\\LENOVO\\Anaconda3\\lib\\site-packages\\ipykernel_launcher.py:12: FutureWarning: Method .as_matrix will be removed in a future version. Use .values instead.\n",
      "  if sys.path[0] == '':\n"
     ]
    }
   ],
   "source": [
    "# Loading the train and test data\n",
    "X_train, X_test, Y_train, Y_test = load_data()"
   ]
  },
  {
   "cell_type": "code",
   "execution_count": 16,
   "metadata": {},
   "outputs": [
    {
     "data": {
      "text/plain": [
       "9"
      ]
     },
     "execution_count": 16,
     "metadata": {},
     "output_type": "execute_result"
    }
   ],
   "source": [
    "len(X_train[0][0])"
   ]
  },
  {
   "cell_type": "code",
   "execution_count": 17,
   "metadata": {},
   "outputs": [
    {
     "name": "stdout",
     "output_type": "stream",
     "text": [
      "128\n",
      "9\n",
      "7352\n"
     ]
    }
   ],
   "source": [
    "timesteps = len(X_train[0])\n",
    "input_dim = len(X_train[0][0])\n",
    "n_classes = _count_classes(Y_train)\n",
    "\n",
    "print(timesteps)\n",
    "print(input_dim)\n",
    "print(len(X_train))"
   ]
  },
  {
   "cell_type": "markdown",
   "metadata": {},
   "source": [
    "- Defining the Architecture of LSTM"
   ]
  },
  {
   "cell_type": "code",
   "execution_count": 26,
   "metadata": {},
   "outputs": [
    {
     "name": "stdout",
     "output_type": "stream",
     "text": [
      "WARNING:tensorflow:From C:\\Users\\LENOVO\\Anaconda3\\lib\\site-packages\\keras\\backend\\tensorflow_backend.py:541: The name tf.placeholder is deprecated. Please use tf.compat.v1.placeholder instead.\n",
      "\n",
      "WARNING:tensorflow:From C:\\Users\\LENOVO\\Anaconda3\\lib\\site-packages\\keras\\backend\\tensorflow_backend.py:4432: The name tf.random_uniform is deprecated. Please use tf.random.uniform instead.\n",
      "\n",
      "WARNING:tensorflow:From C:\\Users\\LENOVO\\Anaconda3\\lib\\site-packages\\keras\\backend\\tensorflow_backend.py:148: The name tf.placeholder_with_default is deprecated. Please use tf.compat.v1.placeholder_with_default instead.\n",
      "\n",
      "WARNING:tensorflow:From C:\\Users\\LENOVO\\Anaconda3\\lib\\site-packages\\keras\\backend\\tensorflow_backend.py:3733: calling dropout (from tensorflow.python.ops.nn_ops) with keep_prob is deprecated and will be removed in a future version.\n",
      "Instructions for updating:\n",
      "Please use `rate` instead of `keep_prob`. Rate should be set to `rate = 1 - keep_prob`.\n",
      "Model: \"sequential_2\"\n",
      "_________________________________________________________________\n",
      "Layer (type)                 Output Shape              Param #   \n",
      "=================================================================\n",
      "lstm_1 (LSTM)                (None, 32)                5376      \n",
      "_________________________________________________________________\n",
      "dropout_1 (Dropout)          (None, 32)                0         \n",
      "_________________________________________________________________\n",
      "dense_1 (Dense)              (None, 6)                 198       \n",
      "=================================================================\n",
      "Total params: 5,574\n",
      "Trainable params: 5,574\n",
      "Non-trainable params: 0\n",
      "_________________________________________________________________\n"
     ]
    }
   ],
   "source": [
    "# Initiliazing the sequential model\n",
    "model = Sequential()\n",
    "# Configuring the parameters\n",
    "model.add(LSTM(n_hidden, input_shape=(timesteps, input_dim)))\n",
    "# Adding a dropout layer\n",
    "model.add(Dropout(0.5))\n",
    "# Adding a dense output layer with sigmoid activation\n",
    "model.add(Dense(n_classes, activation='sigmoid'))\n",
    "model.summary()"
   ]
  },
  {
   "cell_type": "code",
   "execution_count": 27,
   "metadata": {},
   "outputs": [
    {
     "name": "stdout",
     "output_type": "stream",
     "text": [
      "WARNING:tensorflow:From C:\\Users\\LENOVO\\Anaconda3\\lib\\site-packages\\keras\\optimizers.py:793: The name tf.train.Optimizer is deprecated. Please use tf.compat.v1.train.Optimizer instead.\n",
      "\n",
      "WARNING:tensorflow:From C:\\Users\\LENOVO\\Anaconda3\\lib\\site-packages\\keras\\backend\\tensorflow_backend.py:3576: The name tf.log is deprecated. Please use tf.math.log instead.\n",
      "\n"
     ]
    }
   ],
   "source": [
    "# Compiling the model\n",
    "model.compile(loss='categorical_crossentropy',\n",
    "              optimizer='rmsprop',\n",
    "              metrics=['accuracy'])"
   ]
  },
  {
   "cell_type": "code",
   "execution_count": 1,
   "metadata": {
    "scrolled": true
   },
   "outputs": [],
   "source": [
    "# Training the model\n",
    "model.fit(X_train,\n",
    "          Y_train,\n",
    "          batch_size=batch_size,\n",
    "          validation_data=(X_test, Y_test),\n",
    "          epochs=epochs)"
   ]
  },
  {
   "cell_type": "code",
   "execution_count": 24,
   "metadata": {},
   "outputs": [
    {
     "name": "stdout",
     "output_type": "stream",
     "text": [
      "Pred                LAYING  SITTING  STANDING  WALKING  WALKING_DOWNSTAIRS  \\\n",
      "True                                                                         \n",
      "LAYING                 512        0        25        0                   0   \n",
      "SITTING                  3      410        75        0                   0   \n",
      "STANDING                 0       87       445        0                   0   \n",
      "WALKING                  0        0         0      481                   2   \n",
      "WALKING_DOWNSTAIRS       0        0         0        0                 382   \n",
      "WALKING_UPSTAIRS         0        0         0        2                  18   \n",
      "\n",
      "Pred                WALKING_UPSTAIRS  \n",
      "True                                  \n",
      "LAYING                             0  \n",
      "SITTING                            3  \n",
      "STANDING                           0  \n",
      "WALKING                           13  \n",
      "WALKING_DOWNSTAIRS                38  \n",
      "WALKING_UPSTAIRS                 451  \n"
     ]
    }
   ],
   "source": [
    "# Confusion Matrix\n",
    "print(confusion_matrix(Y_test, model.predict(X_test)))"
   ]
  },
  {
   "cell_type": "code",
   "execution_count": 27,
   "metadata": {},
   "outputs": [
    {
     "name": "stdout",
     "output_type": "stream",
     "text": [
      "2947/2947 [==============================] - 4s 2ms/step\n"
     ]
    }
   ],
   "source": [
    "score = model.evaluate(X_test, Y_test)"
   ]
  },
  {
   "cell_type": "code",
   "execution_count": 28,
   "metadata": {},
   "outputs": [
    {
     "data": {
      "text/plain": [
       "[0.3087582236972612, 0.9097387173396675]"
      ]
     },
     "execution_count": 28,
     "metadata": {},
     "output_type": "execute_result"
    }
   ],
   "source": [
    "score"
   ]
  },
  {
   "cell_type": "markdown",
   "metadata": {},
   "source": [
    "- With a simple 2 layer architecture we got 90.09% accuracy and a loss of 0.30\n",
    "- We can further imporve the performace with Hyperparameter tuning"
   ]
  },
  {
   "cell_type": "markdown",
   "metadata": {},
   "source": [
    "# Assignment:"
   ]
  },
  {
   "cell_type": "markdown",
   "metadata": {},
   "source": [
    "### Model-1:"
   ]
  },
  {
   "cell_type": "code",
   "execution_count": 17,
   "metadata": {},
   "outputs": [
    {
     "name": "stdout",
     "output_type": "stream",
     "text": [
      "WARNING:tensorflow:From C:\\Users\\LENOVO\\Anaconda3\\lib\\site-packages\\keras\\backend\\tensorflow_backend.py:66: The name tf.get_default_graph is deprecated. Please use tf.compat.v1.get_default_graph instead.\n",
      "\n",
      "WARNING:tensorflow:From C:\\Users\\LENOVO\\Anaconda3\\lib\\site-packages\\keras\\backend\\tensorflow_backend.py:541: The name tf.placeholder is deprecated. Please use tf.compat.v1.placeholder instead.\n",
      "\n",
      "WARNING:tensorflow:From C:\\Users\\LENOVO\\Anaconda3\\lib\\site-packages\\keras\\backend\\tensorflow_backend.py:4432: The name tf.random_uniform is deprecated. Please use tf.random.uniform instead.\n",
      "\n",
      "WARNING:tensorflow:From C:\\Users\\LENOVO\\Anaconda3\\lib\\site-packages\\keras\\backend\\tensorflow_backend.py:148: The name tf.placeholder_with_default is deprecated. Please use tf.compat.v1.placeholder_with_default instead.\n",
      "\n",
      "WARNING:tensorflow:From C:\\Users\\LENOVO\\Anaconda3\\lib\\site-packages\\keras\\backend\\tensorflow_backend.py:3733: calling dropout (from tensorflow.python.ops.nn_ops) with keep_prob is deprecated and will be removed in a future version.\n",
      "Instructions for updating:\n",
      "Please use `rate` instead of `keep_prob`. Rate should be set to `rate = 1 - keep_prob`.\n",
      "Model: \"sequential_1\"\n",
      "_________________________________________________________________\n",
      "Layer (type)                 Output Shape              Param #   \n",
      "=================================================================\n",
      "lstm_1 (LSTM)                (None, 40)                8000      \n",
      "_________________________________________________________________\n",
      "dropout_1 (Dropout)          (None, 40)                0         \n",
      "_________________________________________________________________\n",
      "dense_1 (Dense)              (None, 6)                 246       \n",
      "=================================================================\n",
      "Total params: 8,246\n",
      "Trainable params: 8,246\n",
      "Non-trainable params: 0\n",
      "_________________________________________________________________\n"
     ]
    }
   ],
   "source": [
    "# Initiliazing the sequential model\n",
    "model = Sequential()\n",
    "# Configuring the parameters\n",
    "model.add(LSTM(40, input_shape=(timesteps, input_dim)))\n",
    "# Adding a dropout layer\n",
    "model.add(Dropout(0.5))\n",
    "# Adding a dense output layer with sigmoid activation\n",
    "model.add(Dense(n_classes, activation='sigmoid'))\n",
    "model.summary()"
   ]
  },
  {
   "cell_type": "code",
   "execution_count": 18,
   "metadata": {},
   "outputs": [
    {
     "name": "stdout",
     "output_type": "stream",
     "text": [
      "WARNING:tensorflow:From C:\\Users\\LENOVO\\Anaconda3\\lib\\site-packages\\keras\\optimizers.py:793: The name tf.train.Optimizer is deprecated. Please use tf.compat.v1.train.Optimizer instead.\n",
      "\n",
      "WARNING:tensorflow:From C:\\Users\\LENOVO\\Anaconda3\\lib\\site-packages\\keras\\backend\\tensorflow_backend.py:3576: The name tf.log is deprecated. Please use tf.math.log instead.\n",
      "\n"
     ]
    }
   ],
   "source": [
    "# Compiling the model\n",
    "model.compile(loss='categorical_crossentropy',\n",
    "              optimizer='rmsprop',\n",
    "              metrics=['accuracy'])"
   ]
  },
  {
   "cell_type": "code",
   "execution_count": 19,
   "metadata": {
    "scrolled": true
   },
   "outputs": [
    {
     "name": "stdout",
     "output_type": "stream",
     "text": [
      "WARNING:tensorflow:From C:\\Users\\LENOVO\\AppData\\Roaming\\Python\\Python36\\site-packages\\tensorflow\\python\\ops\\math_grad.py:1250: add_dispatch_support.<locals>.wrapper (from tensorflow.python.ops.array_ops) is deprecated and will be removed in a future version.\n",
      "Instructions for updating:\n",
      "Use tf.where in 2.0, which has the same broadcast rule as np.where\n",
      "Train on 7352 samples, validate on 2947 samples\n",
      "Epoch 1/30\n",
      "7352/7352 [==============================] - 123s 17ms/step - loss: 1.2862 - acc: 0.4539 - val_loss: 1.1677 - val_acc: 0.5059\n",
      "Epoch 2/30\n",
      "7352/7352 [==============================] - 121s 16ms/step - loss: 1.1326 - acc: 0.5135 - val_loss: 1.0953 - val_acc: 0.5161\n",
      "Epoch 3/30\n",
      "7352/7352 [==============================] - 118s 16ms/step - loss: 0.9043 - acc: 0.6050 - val_loss: 0.9573 - val_acc: 0.6050\n",
      "Epoch 4/30\n",
      "7352/7352 [==============================] - 124s 17ms/step - loss: 0.7925 - acc: 0.6255 - val_loss: 1.1005 - val_acc: 0.5249\n",
      "Epoch 5/30\n",
      "7352/7352 [==============================] - 131s 18ms/step - loss: 0.7313 - acc: 0.6461 - val_loss: 0.8016 - val_acc: 0.6237\n",
      "Epoch 6/30\n",
      "7352/7352 [==============================] - 132s 18ms/step - loss: 0.7000 - acc: 0.6665 - val_loss: 0.9460 - val_acc: 0.5989\n",
      "Epoch 7/30\n",
      "7352/7352 [==============================] - 131s 18ms/step - loss: 0.7608 - acc: 0.6526 - val_loss: 0.7669 - val_acc: 0.6410\n",
      "Epoch 8/30\n",
      "7352/7352 [==============================] - 131s 18ms/step - loss: 0.6546 - acc: 0.7021 - val_loss: 0.7351 - val_acc: 0.6919\n",
      "Epoch 9/30\n",
      "7352/7352 [==============================] - 132s 18ms/step - loss: 0.6057 - acc: 0.7602 - val_loss: 0.7004 - val_acc: 0.7750\n",
      "Epoch 10/30\n",
      "7352/7352 [==============================] - 144s 20ms/step - loss: 0.5372 - acc: 0.7988 - val_loss: 0.8634 - val_acc: 0.7027\n",
      "Epoch 11/30\n",
      "7352/7352 [==============================] - 139s 19ms/step - loss: 0.4524 - acc: 0.8482 - val_loss: 0.6696 - val_acc: 0.8154\n",
      "Epoch 12/30\n",
      "7352/7352 [==============================] - 138s 19ms/step - loss: 0.3766 - acc: 0.8821 - val_loss: 0.6002 - val_acc: 0.8402\n",
      "Epoch 13/30\n",
      "7352/7352 [==============================] - 135s 18ms/step - loss: 0.3165 - acc: 0.9036 - val_loss: 0.5824 - val_acc: 0.8422\n",
      "Epoch 14/30\n",
      "7352/7352 [==============================] - 135s 18ms/step - loss: 0.2830 - acc: 0.9097 - val_loss: 0.5283 - val_acc: 0.8514\n",
      "Epoch 15/30\n",
      "7352/7352 [==============================] - 138s 19ms/step - loss: 0.2437 - acc: 0.9196 - val_loss: 0.5322 - val_acc: 0.8643\n",
      "Epoch 16/30\n",
      "7352/7352 [==============================] - 144s 20ms/step - loss: 0.2347 - acc: 0.9263 - val_loss: 0.4037 - val_acc: 0.8870\n",
      "Epoch 17/30\n",
      "7352/7352 [==============================] - 137s 19ms/step - loss: 0.2268 - acc: 0.9280 - val_loss: 0.5046 - val_acc: 0.8819\n",
      "Epoch 18/30\n",
      "7352/7352 [==============================] - 141s 19ms/step - loss: 0.1989 - acc: 0.9358 - val_loss: 0.5478 - val_acc: 0.8897\n",
      "Epoch 19/30\n",
      "7352/7352 [==============================] - 136s 19ms/step - loss: 0.1892 - acc: 0.9361 - val_loss: 0.4753 - val_acc: 0.8850\n",
      "Epoch 20/30\n",
      "7352/7352 [==============================] - 134s 18ms/step - loss: 0.1910 - acc: 0.9372 - val_loss: 0.5522 - val_acc: 0.8812\n",
      "Epoch 21/30\n",
      "7352/7352 [==============================] - 135s 18ms/step - loss: 0.2002 - acc: 0.9354 - val_loss: 0.6198 - val_acc: 0.8772\n",
      "Epoch 22/30\n",
      "7352/7352 [==============================] - 136s 19ms/step - loss: 0.1783 - acc: 0.9387 - val_loss: 0.5255 - val_acc: 0.8839\n",
      "Epoch 23/30\n",
      "7352/7352 [==============================] - 136s 19ms/step - loss: 0.1737 - acc: 0.9361 - val_loss: 0.5526 - val_acc: 0.8877\n",
      "Epoch 24/30\n",
      "7352/7352 [==============================] - 137s 19ms/step - loss: 0.1692 - acc: 0.9410 - val_loss: 0.9415 - val_acc: 0.6393\n",
      "Epoch 25/30\n",
      "7352/7352 [==============================] - 135s 18ms/step - loss: 0.1814 - acc: 0.9361 - val_loss: 0.6644 - val_acc: 0.8731\n",
      "Epoch 26/30\n",
      "7352/7352 [==============================] - 136s 19ms/step - loss: 0.1997 - acc: 0.9344 - val_loss: 0.5646 - val_acc: 0.8890\n",
      "Epoch 27/30\n",
      "7352/7352 [==============================] - 136s 18ms/step - loss: 0.1624 - acc: 0.9459 - val_loss: 0.4422 - val_acc: 0.8931\n",
      "Epoch 28/30\n",
      "7352/7352 [==============================] - 136s 18ms/step - loss: 0.1621 - acc: 0.9449 - val_loss: 0.4937 - val_acc: 0.8850\n",
      "Epoch 29/30\n",
      "7352/7352 [==============================] - 136s 18ms/step - loss: 0.1584 - acc: 0.9470 - val_loss: 0.5160 - val_acc: 0.8992\n",
      "Epoch 30/30\n",
      "7352/7352 [==============================] - 136s 18ms/step - loss: 0.1656 - acc: 0.9440 - val_loss: 0.5032 - val_acc: 0.8894\n"
     ]
    },
    {
     "data": {
      "text/plain": [
       "<keras.callbacks.History at 0x1355507ed30>"
      ]
     },
     "execution_count": 19,
     "metadata": {},
     "output_type": "execute_result"
    }
   ],
   "source": [
    "# Training the model\n",
    "model.fit(X_train,\n",
    "          Y_train,\n",
    "          batch_size=batch_size,\n",
    "          validation_data=(X_test, Y_test),\n",
    "          epochs=epochs)"
   ]
  },
  {
   "cell_type": "code",
   "execution_count": 20,
   "metadata": {
    "scrolled": true
   },
   "outputs": [
    {
     "name": "stdout",
     "output_type": "stream",
     "text": [
      "Pred                LAYING  SITTING  STANDING  WALKING  WALKING_DOWNSTAIRS  \\\n",
      "True                                                                         \n",
      "LAYING                 510        0         0        0                   0   \n",
      "SITTING                  0      405        62        0                   5   \n",
      "STANDING                 0      106       424        1                   0   \n",
      "WALKING                  0        0         7      406                  27   \n",
      "WALKING_DOWNSTAIRS       0        0         0        0                 417   \n",
      "WALKING_UPSTAIRS         0        0         0        1                  11   \n",
      "\n",
      "Pred                WALKING_UPSTAIRS  \n",
      "True                                  \n",
      "LAYING                            27  \n",
      "SITTING                           19  \n",
      "STANDING                           1  \n",
      "WALKING                           56  \n",
      "WALKING_DOWNSTAIRS                 3  \n",
      "WALKING_UPSTAIRS                 459  \n"
     ]
    }
   ],
   "source": [
    "# Confusion Matrix\n",
    "print(confusion_matrix(Y_test, model.predict(X_test)))"
   ]
  },
  {
   "cell_type": "code",
   "execution_count": 21,
   "metadata": {},
   "outputs": [
    {
     "name": "stdout",
     "output_type": "stream",
     "text": [
      "2947/2947 [==============================] - 8s 3ms/step\n"
     ]
    }
   ],
   "source": [
    "score = model.evaluate(X_test, Y_test)"
   ]
  },
  {
   "cell_type": "code",
   "execution_count": 22,
   "metadata": {},
   "outputs": [
    {
     "data": {
      "text/plain": [
       "[0.5031543293462738, 0.8893790295215473]"
      ]
     },
     "execution_count": 22,
     "metadata": {},
     "output_type": "execute_result"
    }
   ],
   "source": [
    "score"
   ]
  },
  {
   "cell_type": "code",
   "execution_count": null,
   "metadata": {},
   "outputs": [],
   "source": []
  },
  {
   "cell_type": "markdown",
   "metadata": {},
   "source": [
    "### Model-2:"
   ]
  },
  {
   "cell_type": "code",
   "execution_count": 47,
   "metadata": {},
   "outputs": [],
   "source": [
    "# code from https://keras.io/regularizers/\n",
    "from keras.regularizers import L1L2\n",
    "from keras.models import load_model\n",
    "from keras.callbacks import ModelCheckpoint\n",
    "from keras.layers import LSTM , BatchNormalization\n",
    "reg = L1L2(0.01, 0.01)"
   ]
  },
  {
   "cell_type": "code",
   "execution_count": 42,
   "metadata": {},
   "outputs": [
    {
     "name": "stdout",
     "output_type": "stream",
     "text": [
      "Model Summary: \n",
      "Model: \"sequential_5\"\n",
      "_________________________________________________________________\n",
      "Layer (type)                 Output Shape              Param #   \n",
      "=================================================================\n",
      "lstm_8 (LSTM)                (None, 128, 100)          44000     \n",
      "_________________________________________________________________\n",
      "batch_normalization_4 (Batch (None, 128, 100)          400       \n",
      "_________________________________________________________________\n",
      "dropout_7 (Dropout)          (None, 128, 100)          0         \n",
      "_________________________________________________________________\n",
      "lstm_9 (LSTM)                (None, 50)                30200     \n",
      "_________________________________________________________________\n",
      "dropout_8 (Dropout)          (None, 50)                0         \n",
      "_________________________________________________________________\n",
      "dense_4 (Dense)              (None, 6)                 306       \n",
      "=================================================================\n",
      "Total params: 74,906\n",
      "Trainable params: 74,706\n",
      "Non-trainable params: 200\n",
      "_________________________________________________________________\n"
     ]
    }
   ],
   "source": [
    "model = Sequential()\n",
    "model.add(LSTM(100, input_shape=(timesteps, input_dim), kernel_initializer='glorot_normal' , return_sequences=True, bias_regularizer=reg))\n",
    "model.add(BatchNormalization())\n",
    "model.add(Dropout(0.70))\n",
    "model.add(LSTM(50))\n",
    "model.add(Dropout(0.70))\n",
    "model.add(Dense(n_classes, activation='sigmoid'))\n",
    "print(\"Model Summary: \")\n",
    "model.summary()"
   ]
  },
  {
   "cell_type": "code",
   "execution_count": 43,
   "metadata": {},
   "outputs": [],
   "source": [
    "# Compiling the model\n",
    "model.compile(loss='categorical_crossentropy',\n",
    "              optimizer='rmsprop',\n",
    "              metrics=['accuracy'])\n",
    "checkpoint_3 = ModelCheckpoint(\"model_6.h5\",monitor=\"val_acc\",mode=\"max\",save_best_only = True,verbose=1)"
   ]
  },
  {
   "cell_type": "code",
   "execution_count": 44,
   "metadata": {
    "scrolled": true
   },
   "outputs": [
    {
     "name": "stdout",
     "output_type": "stream",
     "text": [
      "Train on 7352 samples, validate on 2947 samples\n",
      "Epoch 1/20\n",
      "7352/7352 [==============================] - 248s 34ms/step - loss: 2.3953 - acc: 0.5909 - val_loss: 1.8404 - val_acc: 0.5999\n",
      "\n",
      "Epoch 00001: val_acc improved from -inf to 0.59993, saving model to model_6.h5\n",
      "Epoch 2/20\n",
      "7352/7352 [==============================] - 235s 32ms/step - loss: 1.1531 - acc: 0.6884 - val_loss: 1.0318 - val_acc: 0.5999\n",
      "\n",
      "Epoch 00002: val_acc did not improve from 0.59993\n",
      "Epoch 3/20\n",
      "7352/7352 [==============================] - 232s 32ms/step - loss: 0.5914 - acc: 0.7877 - val_loss: 0.4268 - val_acc: 0.8660\n",
      "\n",
      "Epoch 00003: val_acc improved from 0.59993 to 0.86597, saving model to model_6.h5\n",
      "Epoch 4/20\n",
      "7352/7352 [==============================] - 232s 32ms/step - loss: 0.4100 - acc: 0.8750 - val_loss: 0.3189 - val_acc: 0.8968\n",
      "\n",
      "Epoch 00004: val_acc improved from 0.86597 to 0.89684, saving model to model_6.h5\n",
      "Epoch 5/20\n",
      "7352/7352 [==============================] - 234s 32ms/step - loss: 0.3255 - acc: 0.9000 - val_loss: 0.3291 - val_acc: 0.8931\n",
      "\n",
      "Epoch 00005: val_acc did not improve from 0.89684\n",
      "Epoch 6/20\n",
      "7352/7352 [==============================] - 237s 32ms/step - loss: 0.2785 - acc: 0.9135 - val_loss: 0.3620 - val_acc: 0.8850\n",
      "\n",
      "Epoch 00006: val_acc did not improve from 0.89684\n",
      "Epoch 7/20\n",
      "7352/7352 [==============================] - 245s 33ms/step - loss: 0.2566 - acc: 0.9221 - val_loss: 0.3146 - val_acc: 0.8921\n",
      "\n",
      "Epoch 00007: val_acc did not improve from 0.89684\n",
      "Epoch 8/20\n",
      "7352/7352 [==============================] - 237s 32ms/step - loss: 0.2339 - acc: 0.9280 - val_loss: 0.5996 - val_acc: 0.8728\n",
      "\n",
      "Epoch 00008: val_acc did not improve from 0.89684\n",
      "Epoch 9/20\n",
      "7352/7352 [==============================] - 236s 32ms/step - loss: 0.2438 - acc: 0.9244 - val_loss: 0.2507 - val_acc: 0.9209\n",
      "\n",
      "Epoch 00009: val_acc improved from 0.89684 to 0.92094, saving model to model_6.h5\n",
      "Epoch 10/20\n",
      "7352/7352 [==============================] - 236s 32ms/step - loss: 0.2304 - acc: 0.9256 - val_loss: 0.3254 - val_acc: 0.8979\n",
      "\n",
      "Epoch 00010: val_acc did not improve from 0.92094\n",
      "Epoch 11/20\n",
      "7352/7352 [==============================] - 235s 32ms/step - loss: 0.2392 - acc: 0.9244 - val_loss: 0.4724 - val_acc: 0.8558\n",
      "\n",
      "Epoch 00011: val_acc did not improve from 0.92094\n",
      "Epoch 12/20\n",
      "7352/7352 [==============================] - 242s 33ms/step - loss: 0.2030 - acc: 0.9314 - val_loss: 0.3208 - val_acc: 0.9186\n",
      "\n",
      "Epoch 00012: val_acc did not improve from 0.92094\n",
      "Epoch 13/20\n",
      "7352/7352 [==============================] - 246s 33ms/step - loss: 0.2041 - acc: 0.9369 - val_loss: 0.2538 - val_acc: 0.9233\n",
      "\n",
      "Epoch 00013: val_acc improved from 0.92094 to 0.92331, saving model to model_6.h5\n",
      "Epoch 14/20\n",
      "7352/7352 [==============================] - 236s 32ms/step - loss: 0.2126 - acc: 0.9310 - val_loss: 0.2945 - val_acc: 0.8951\n",
      "\n",
      "Epoch 00014: val_acc did not improve from 0.92331\n",
      "Epoch 15/20\n",
      "7352/7352 [==============================] - 237s 32ms/step - loss: 0.2042 - acc: 0.9306 - val_loss: 0.2545 - val_acc: 0.9338\n",
      "\n",
      "Epoch 00015: val_acc improved from 0.92331 to 0.93383, saving model to model_6.h5\n",
      "Epoch 16/20\n",
      "7352/7352 [==============================] - 235s 32ms/step - loss: 0.2000 - acc: 0.9339 - val_loss: 0.2633 - val_acc: 0.9179\n",
      "\n",
      "Epoch 00016: val_acc did not improve from 0.93383\n",
      "Epoch 17/20\n",
      "7352/7352 [==============================] - 235s 32ms/step - loss: 0.1971 - acc: 0.9334 - val_loss: 0.3233 - val_acc: 0.9203\n",
      "\n",
      "Epoch 00017: val_acc did not improve from 0.93383\n",
      "Epoch 18/20\n",
      "7352/7352 [==============================] - 235s 32ms/step - loss: nan - acc: 0.3274 - val_loss: nan - val_acc: 0.1683\n",
      "\n",
      "Epoch 00018: val_acc did not improve from 0.93383\n",
      "Epoch 19/20\n",
      "7352/7352 [==============================] - 235s 32ms/step - loss: nan - acc: 0.1668 - val_loss: nan - val_acc: 0.1683\n",
      "\n",
      "Epoch 00019: val_acc did not improve from 0.93383\n",
      "Epoch 20/20\n",
      "7352/7352 [==============================] - 235s 32ms/step - loss: nan - acc: 0.1668 - val_loss: nan - val_acc: 0.1683\n",
      "\n",
      "Epoch 00020: val_acc did not improve from 0.93383\n"
     ]
    },
    {
     "data": {
      "text/plain": [
       "<keras.callbacks.History at 0x15ca245cf28>"
      ]
     },
     "execution_count": 44,
     "metadata": {},
     "output_type": "execute_result"
    }
   ],
   "source": [
    "# Training the model\n",
    "model.fit(X_train,\n",
    "          Y_train,\n",
    "          batch_size=batch_size,\n",
    "          validation_data=(X_test, Y_test),\n",
    "          epochs=20,callbacks=[checkpoint_3])"
   ]
  },
  {
   "cell_type": "code",
   "execution_count": 48,
   "metadata": {},
   "outputs": [],
   "source": [
    "model = load_model('model_6.h5')"
   ]
  },
  {
   "cell_type": "code",
   "execution_count": 49,
   "metadata": {},
   "outputs": [
    {
     "name": "stdout",
     "output_type": "stream",
     "text": [
      "Pred                LAYING  SITTING  STANDING  WALKING  WALKING_DOWNSTAIRS  \\\n",
      "True                                                                         \n",
      "LAYING                 537        0         0        0                   0   \n",
      "SITTING                  0      389        98        0                   0   \n",
      "STANDING                 0       47       482        3                   0   \n",
      "WALKING                  0        0         0      475                  20   \n",
      "WALKING_DOWNSTAIRS       0        0         0        0                 420   \n",
      "WALKING_UPSTAIRS         0        0         0        8                  14   \n",
      "\n",
      "Pred                WALKING_UPSTAIRS  \n",
      "True                                  \n",
      "LAYING                             0  \n",
      "SITTING                            4  \n",
      "STANDING                           0  \n",
      "WALKING                            1  \n",
      "WALKING_DOWNSTAIRS                 0  \n",
      "WALKING_UPSTAIRS                 449  \n"
     ]
    }
   ],
   "source": [
    "# Confusion Matrix\n",
    "print(confusion_matrix(Y_test, model.predict(X_test)))"
   ]
  },
  {
   "cell_type": "code",
   "execution_count": 50,
   "metadata": {},
   "outputs": [
    {
     "name": "stdout",
     "output_type": "stream",
     "text": [
      "2947/2947 [==============================] - 17s 6ms/step\n"
     ]
    }
   ],
   "source": [
    "score = model.evaluate(X_test, Y_test)"
   ]
  },
  {
   "cell_type": "code",
   "execution_count": 51,
   "metadata": {},
   "outputs": [
    {
     "data": {
      "text/plain": [
       "[0.2544564464753497, 0.9338310145911096]"
      ]
     },
     "execution_count": 51,
     "metadata": {},
     "output_type": "execute_result"
    }
   ],
   "source": [
    "score"
   ]
  },
  {
   "cell_type": "markdown",
   "metadata": {},
   "source": [
    "### Model-3:"
   ]
  },
  {
   "cell_type": "code",
   "execution_count": 32,
   "metadata": {},
   "outputs": [
    {
     "name": "stdout",
     "output_type": "stream",
     "text": [
      "WARNING:tensorflow:Large dropout rate: 0.7 (>0.5). In TensorFlow 2.x, dropout() uses dropout rate instead of keep_prob. Please ensure that this is intended.\n",
      "Model: \"sequential_4\"\n",
      "_________________________________________________________________\n",
      "Layer (type)                 Output Shape              Param #   \n",
      "=================================================================\n",
      "lstm_4 (LSTM)                (None, 70)                22400     \n",
      "_________________________________________________________________\n",
      "dropout_4 (Dropout)          (None, 70)                0         \n",
      "_________________________________________________________________\n",
      "dense_4 (Dense)              (None, 6)                 426       \n",
      "=================================================================\n",
      "Total params: 22,826\n",
      "Trainable params: 22,826\n",
      "Non-trainable params: 0\n",
      "_________________________________________________________________\n"
     ]
    }
   ],
   "source": [
    "# Initiliazing the sequential model\n",
    "model = Sequential()\n",
    "# Configuring the parameters\n",
    "model.add(LSTM(70, input_shape=(timesteps, input_dim)))\n",
    "# Adding a dropout layer\n",
    "model.add(Dropout(0.7))\n",
    "# Adding a dense output layer with sigmoid activation\n",
    "model.add(Dense(n_classes, activation='sigmoid'))\n",
    "model.summary()"
   ]
  },
  {
   "cell_type": "code",
   "execution_count": 33,
   "metadata": {},
   "outputs": [],
   "source": [
    "# Compiling the model\n",
    "model.compile(loss='categorical_crossentropy',\n",
    "              optimizer='rmsprop',\n",
    "              metrics=['accuracy'])"
   ]
  },
  {
   "cell_type": "code",
   "execution_count": 34,
   "metadata": {
    "scrolled": true
   },
   "outputs": [
    {
     "name": "stdout",
     "output_type": "stream",
     "text": [
      "Train on 7352 samples, validate on 2947 samples\n",
      "Epoch 1/30\n",
      "7352/7352 [==============================] - 126s 17ms/step - loss: 1.2871 - acc: 0.4425 - val_loss: 1.2365 - val_acc: 0.4669\n",
      "Epoch 2/30\n",
      "7352/7352 [==============================] - 137s 19ms/step - loss: 1.0508 - acc: 0.5423 - val_loss: 1.0076 - val_acc: 0.6088\n",
      "Epoch 3/30\n",
      "7352/7352 [==============================] - 136s 18ms/step - loss: 0.8036 - acc: 0.6270 - val_loss: 0.8368 - val_acc: 0.5979\n",
      "Epoch 4/30\n",
      "7352/7352 [==============================] - 134s 18ms/step - loss: 0.7237 - acc: 0.6608 - val_loss: 0.7729 - val_acc: 0.6159\n",
      "Epoch 5/30\n",
      "7352/7352 [==============================] - 136s 18ms/step - loss: 0.9305 - acc: 0.6065 - val_loss: 0.8180 - val_acc: 0.5826\n",
      "Epoch 6/30\n",
      "7352/7352 [==============================] - 135s 18ms/step - loss: 0.6588 - acc: 0.7073 - val_loss: 0.6039 - val_acc: 0.7238\n",
      "Epoch 7/30\n",
      "7352/7352 [==============================] - 136s 18ms/step - loss: 0.5586 - acc: 0.7560 - val_loss: 0.5590 - val_acc: 0.7631\n",
      "Epoch 8/30\n",
      "7352/7352 [==============================] - 135s 18ms/step - loss: 0.5349 - acc: 0.7851 - val_loss: 0.4933 - val_acc: 0.8368\n",
      "Epoch 9/30\n",
      "7352/7352 [==============================] - 135s 18ms/step - loss: 0.5117 - acc: 0.8266 - val_loss: 0.4738 - val_acc: 0.8269\n",
      "Epoch 10/30\n",
      "7352/7352 [==============================] - 136s 18ms/step - loss: 0.3452 - acc: 0.8925 - val_loss: 0.3833 - val_acc: 0.8663\n",
      "Epoch 11/30\n",
      "7352/7352 [==============================] - 135s 18ms/step - loss: 0.2779 - acc: 0.9172 - val_loss: 0.3797 - val_acc: 0.8856\n",
      "Epoch 12/30\n",
      "7352/7352 [==============================] - 141s 19ms/step - loss: 0.2701 - acc: 0.9221 - val_loss: 0.3169 - val_acc: 0.8711\n",
      "Epoch 13/30\n",
      "7352/7352 [==============================] - 138s 19ms/step - loss: 0.2534 - acc: 0.9286 - val_loss: 0.2987 - val_acc: 0.9009\n",
      "Epoch 14/30\n",
      "7352/7352 [==============================] - 132s 18ms/step - loss: 0.2325 - acc: 0.9309 - val_loss: 0.3455 - val_acc: 0.8951\n",
      "Epoch 15/30\n",
      "7352/7352 [==============================] - 135s 18ms/step - loss: 0.2166 - acc: 0.9340 - val_loss: 0.2628 - val_acc: 0.9091\n",
      "Epoch 16/30\n",
      "7352/7352 [==============================] - 129s 18ms/step - loss: 0.2118 - acc: 0.9374 - val_loss: 0.4613 - val_acc: 0.8860\n",
      "Epoch 17/30\n",
      "7352/7352 [==============================] - 129s 18ms/step - loss: 0.2248 - acc: 0.9343 - val_loss: 0.5067 - val_acc: 0.8755\n",
      "Epoch 18/30\n",
      "7352/7352 [==============================] - 129s 17ms/step - loss: 0.2107 - acc: 0.9347 - val_loss: 0.2522 - val_acc: 0.9230\n",
      "Epoch 19/30\n",
      "7352/7352 [==============================] - 128s 17ms/step - loss: 0.2013 - acc: 0.9433 - val_loss: 0.2784 - val_acc: 0.9175\n",
      "Epoch 20/30\n",
      "7352/7352 [==============================] - 151s 21ms/step - loss: 0.1917 - acc: 0.9402 - val_loss: 0.2704 - val_acc: 0.9230\n",
      "Epoch 21/30\n",
      "7352/7352 [==============================] - 137s 19ms/step - loss: 0.1846 - acc: 0.9450 - val_loss: 0.2450 - val_acc: 0.9186\n",
      "Epoch 22/30\n",
      "7352/7352 [==============================] - 130s 18ms/step - loss: 0.1932 - acc: 0.9450 - val_loss: 0.2845 - val_acc: 0.9060\n",
      "Epoch 23/30\n",
      "7352/7352 [==============================] - 129s 18ms/step - loss: 0.2236 - acc: 0.9358 - val_loss: 0.3241 - val_acc: 0.9158\n",
      "Epoch 24/30\n",
      "7352/7352 [==============================] - 130s 18ms/step - loss: 0.1734 - acc: 0.9429 - val_loss: 0.2799 - val_acc: 0.9162\n",
      "Epoch 25/30\n",
      "7352/7352 [==============================] - 128s 17ms/step - loss: 0.1593 - acc: 0.9456 - val_loss: 0.3036 - val_acc: 0.9186\n",
      "Epoch 26/30\n",
      "7352/7352 [==============================] - 128s 17ms/step - loss: 0.3904 - acc: 0.9135 - val_loss: 0.3578 - val_acc: 0.9063\n",
      "Epoch 27/30\n",
      "7352/7352 [==============================] - 128s 17ms/step - loss: 0.1722 - acc: 0.9430 - val_loss: 0.6189 - val_acc: 0.8880\n",
      "Epoch 28/30\n",
      "7352/7352 [==============================] - 132s 18ms/step - loss: 0.2481 - acc: 0.9327 - val_loss: 0.4034 - val_acc: 0.9030\n",
      "Epoch 29/30\n",
      "7352/7352 [==============================] - 134s 18ms/step - loss: 0.1677 - acc: 0.9479 - val_loss: 0.4361 - val_acc: 0.9131\n",
      "Epoch 30/30\n",
      "7352/7352 [==============================] - 130s 18ms/step - loss: 0.3103 - acc: 0.9259 - val_loss: 0.4625 - val_acc: 0.8989\n"
     ]
    },
    {
     "data": {
      "text/plain": [
       "<keras.callbacks.History at 0x1361bad9630>"
      ]
     },
     "execution_count": 34,
     "metadata": {},
     "output_type": "execute_result"
    }
   ],
   "source": [
    "# Training the model\n",
    "model.fit(X_train,\n",
    "          Y_train,\n",
    "          batch_size=batch_size,\n",
    "          validation_data=(X_test, Y_test),\n",
    "          epochs=epochs)"
   ]
  },
  {
   "cell_type": "code",
   "execution_count": 35,
   "metadata": {},
   "outputs": [
    {
     "name": "stdout",
     "output_type": "stream",
     "text": [
      "Pred                LAYING  SITTING  STANDING  WALKING  WALKING_DOWNSTAIRS  \\\n",
      "True                                                                         \n",
      "LAYING                 485       13        27        1                   9   \n",
      "SITTING                  0      373       111        4                   0   \n",
      "STANDING                 0       81       450        0                   0   \n",
      "WALKING                  0        0         0      462                  19   \n",
      "WALKING_DOWNSTAIRS       0        0         0        1                 416   \n",
      "WALKING_UPSTAIRS         0        0         0        2                   6   \n",
      "\n",
      "Pred                WALKING_UPSTAIRS  \n",
      "True                                  \n",
      "LAYING                             2  \n",
      "SITTING                            3  \n",
      "STANDING                           1  \n",
      "WALKING                           15  \n",
      "WALKING_DOWNSTAIRS                 3  \n",
      "WALKING_UPSTAIRS                 463  \n"
     ]
    }
   ],
   "source": [
    "# Confusion Matrix\n",
    "print(confusion_matrix(Y_test, model.predict(X_test)))"
   ]
  },
  {
   "cell_type": "code",
   "execution_count": 36,
   "metadata": {},
   "outputs": [
    {
     "name": "stdout",
     "output_type": "stream",
     "text": [
      "2947/2947 [==============================] - 8s 3ms/step\n"
     ]
    }
   ],
   "source": [
    "score = model.evaluate(X_test, Y_test)"
   ]
  },
  {
   "cell_type": "code",
   "execution_count": 37,
   "metadata": {},
   "outputs": [
    {
     "data": {
      "text/plain": [
       "[0.46246355840847214, 0.8988802171700034]"
      ]
     },
     "execution_count": 37,
     "metadata": {},
     "output_type": "execute_result"
    }
   ],
   "source": [
    "score"
   ]
  },
  {
   "cell_type": "code",
   "execution_count": null,
   "metadata": {},
   "outputs": [],
   "source": []
  },
  {
   "cell_type": "code",
   "execution_count": null,
   "metadata": {},
   "outputs": [],
   "source": []
  },
  {
   "cell_type": "markdown",
   "metadata": {},
   "source": [
    "### Model-4:"
   ]
  },
  {
   "cell_type": "code",
   "execution_count": 23,
   "metadata": {},
   "outputs": [
    {
     "name": "stdout",
     "output_type": "stream",
     "text": [
      "Model: \"sequential_2\"\n",
      "_________________________________________________________________\n",
      "Layer (type)                 Output Shape              Param #   \n",
      "=================================================================\n",
      "lstm_2 (LSTM)                (None, 50)                12000     \n",
      "_________________________________________________________________\n",
      "dropout_2 (Dropout)          (None, 50)                0         \n",
      "_________________________________________________________________\n",
      "dense_2 (Dense)              (None, 6)                 306       \n",
      "=================================================================\n",
      "Total params: 12,306\n",
      "Trainable params: 12,306\n",
      "Non-trainable params: 0\n",
      "_________________________________________________________________\n"
     ]
    }
   ],
   "source": [
    "# Initiliazing the sequential model\n",
    "model = Sequential()\n",
    "# Configuring the parameters\n",
    "model.add(LSTM(50, input_shape=(timesteps, input_dim)))\n",
    "# Adding a dropout layer\n",
    "model.add(Dropout(0.5))\n",
    "# Adding a dense output layer with sigmoid activation\n",
    "model.add(Dense(n_classes, activation='sigmoid'))\n",
    "model.summary()"
   ]
  },
  {
   "cell_type": "code",
   "execution_count": 24,
   "metadata": {},
   "outputs": [],
   "source": [
    "# Compiling the model\n",
    "model.compile(loss='categorical_crossentropy',\n",
    "              optimizer='rmsprop',\n",
    "              metrics=['accuracy'])"
   ]
  },
  {
   "cell_type": "code",
   "execution_count": 25,
   "metadata": {
    "scrolled": true
   },
   "outputs": [
    {
     "name": "stdout",
     "output_type": "stream",
     "text": [
      "Train on 7352 samples, validate on 2947 samples\n",
      "Epoch 1/30\n",
      "7352/7352 [==============================] - 125s 17ms/step - loss: 1.1955 - acc: 0.4834 - val_loss: 0.8875 - val_acc: 0.6159\n",
      "Epoch 2/30\n",
      "7352/7352 [==============================] - 125s 17ms/step - loss: 0.8413 - acc: 0.6178 - val_loss: 0.7971 - val_acc: 0.6057\n",
      "Epoch 3/30\n",
      "7352/7352 [==============================] - 135s 18ms/step - loss: 0.7409 - acc: 0.6605 - val_loss: 0.7410 - val_acc: 0.6810\n",
      "Epoch 4/30\n",
      "7352/7352 [==============================] - 134s 18ms/step - loss: 0.7369 - acc: 0.6862 - val_loss: 1.2686 - val_acc: 0.4058\n",
      "Epoch 5/30\n",
      "7352/7352 [==============================] - 134s 18ms/step - loss: 0.5986 - acc: 0.7520 - val_loss: 0.5492 - val_acc: 0.7652\n",
      "Epoch 6/30\n",
      "7352/7352 [==============================] - 134s 18ms/step - loss: 0.4807 - acc: 0.8075 - val_loss: 0.5612 - val_acc: 0.7727\n",
      "Epoch 7/30\n",
      "7352/7352 [==============================] - 135s 18ms/step - loss: 0.4437 - acc: 0.8478 - val_loss: 0.5127 - val_acc: 0.8324\n",
      "Epoch 8/30\n",
      "7352/7352 [==============================] - 135s 18ms/step - loss: 0.3448 - acc: 0.8921 - val_loss: 0.4319 - val_acc: 0.8504\n",
      "Epoch 9/30\n",
      "7352/7352 [==============================] - 134s 18ms/step - loss: 0.3270 - acc: 0.9007 - val_loss: 0.4478 - val_acc: 0.8646\n",
      "Epoch 10/30\n",
      "7352/7352 [==============================] - 135s 18ms/step - loss: 0.2576 - acc: 0.9146 - val_loss: 0.2975 - val_acc: 0.9006\n",
      "Epoch 11/30\n",
      "7352/7352 [==============================] - 135s 18ms/step - loss: 0.2145 - acc: 0.9268 - val_loss: 0.3361 - val_acc: 0.9002\n",
      "Epoch 12/30\n",
      "7352/7352 [==============================] - 138s 19ms/step - loss: 0.1917 - acc: 0.9332 - val_loss: 0.3147 - val_acc: 0.9009\n",
      "Epoch 13/30\n",
      "7352/7352 [==============================] - 135s 18ms/step - loss: 0.1934 - acc: 0.9340 - val_loss: 0.3482 - val_acc: 0.8890\n",
      "Epoch 14/30\n",
      "7352/7352 [==============================] - 135s 18ms/step - loss: 0.1755 - acc: 0.9402 - val_loss: 0.4045 - val_acc: 0.8921\n",
      "Epoch 15/30\n",
      "7352/7352 [==============================] - 134s 18ms/step - loss: 0.1868 - acc: 0.9362 - val_loss: 0.3341 - val_acc: 0.9128\n",
      "Epoch 16/30\n",
      "7352/7352 [==============================] - 135s 18ms/step - loss: 0.1909 - acc: 0.9391 - val_loss: 0.3687 - val_acc: 0.9145\n",
      "Epoch 17/30\n",
      "7352/7352 [==============================] - 135s 18ms/step - loss: 0.1932 - acc: 0.9373 - val_loss: 0.3218 - val_acc: 0.9070\n",
      "Epoch 18/30\n",
      "7352/7352 [==============================] - 134s 18ms/step - loss: 0.1643 - acc: 0.9425 - val_loss: 0.3123 - val_acc: 0.9080\n",
      "Epoch 19/30\n",
      "7352/7352 [==============================] - 137s 19ms/step - loss: 0.1666 - acc: 0.9438 - val_loss: 0.3939 - val_acc: 0.9182\n",
      "Epoch 20/30\n",
      "7352/7352 [==============================] - 135s 18ms/step - loss: 0.1633 - acc: 0.9423 - val_loss: 0.3127 - val_acc: 0.9155\n",
      "Epoch 21/30\n",
      "7352/7352 [==============================] - 136s 19ms/step - loss: 0.1758 - acc: 0.9436 - val_loss: 0.4191 - val_acc: 0.8999\n",
      "Epoch 22/30\n",
      "7352/7352 [==============================] - 134s 18ms/step - loss: 0.1579 - acc: 0.9433 - val_loss: 0.4217 - val_acc: 0.8982\n",
      "Epoch 23/30\n",
      "7352/7352 [==============================] - 137s 19ms/step - loss: 0.1589 - acc: 0.9441 - val_loss: 0.2486 - val_acc: 0.9006\n",
      "Epoch 24/30\n",
      "7352/7352 [==============================] - 135s 18ms/step - loss: 0.1497 - acc: 0.9445 - val_loss: 0.3153 - val_acc: 0.9023\n",
      "Epoch 25/30\n",
      "7352/7352 [==============================] - 136s 18ms/step - loss: 0.1422 - acc: 0.9479 - val_loss: 0.3781 - val_acc: 0.9189\n",
      "Epoch 26/30\n",
      "7352/7352 [==============================] - 136s 18ms/step - loss: 0.1503 - acc: 0.9499 - val_loss: 0.4217 - val_acc: 0.9030\n",
      "Epoch 27/30\n",
      "7352/7352 [==============================] - 135s 18ms/step - loss: 0.1594 - acc: 0.9431 - val_loss: 0.4035 - val_acc: 0.9104\n",
      "Epoch 28/30\n",
      "7352/7352 [==============================] - 135s 18ms/step - loss: 0.1597 - acc: 0.9410 - val_loss: 0.3851 - val_acc: 0.9087\n",
      "Epoch 29/30\n",
      "7352/7352 [==============================] - 135s 18ms/step - loss: 0.1853 - acc: 0.9434 - val_loss: 0.4077 - val_acc: 0.8853\n",
      "Epoch 30/30\n",
      "7352/7352 [==============================] - 134s 18ms/step - loss: 0.1434 - acc: 0.9461 - val_loss: 0.4164 - val_acc: 0.9046\n"
     ]
    },
    {
     "data": {
      "text/plain": [
       "<keras.callbacks.History at 0x135711a3da0>"
      ]
     },
     "execution_count": 25,
     "metadata": {},
     "output_type": "execute_result"
    }
   ],
   "source": [
    "# Training the model\n",
    "model.fit(X_train,\n",
    "          Y_train,\n",
    "          batch_size=batch_size,\n",
    "          validation_data=(X_test, Y_test),\n",
    "          epochs=epochs)"
   ]
  },
  {
   "cell_type": "code",
   "execution_count": 26,
   "metadata": {},
   "outputs": [
    {
     "name": "stdout",
     "output_type": "stream",
     "text": [
      "Pred                LAYING  SITTING  STANDING  WALKING  WALKING_DOWNSTAIRS  \\\n",
      "True                                                                         \n",
      "LAYING                 510        0        27        0                   0   \n",
      "SITTING                  0      379       112        0                   0   \n",
      "STANDING                 0       70       461        1                   0   \n",
      "WALKING                  0        0         0      472                   0   \n",
      "WALKING_DOWNSTAIRS       0        0         0        5                 378   \n",
      "WALKING_UPSTAIRS         0        1         0        4                   0   \n",
      "\n",
      "Pred                WALKING_UPSTAIRS  \n",
      "True                                  \n",
      "LAYING                             0  \n",
      "SITTING                            0  \n",
      "STANDING                           0  \n",
      "WALKING                           24  \n",
      "WALKING_DOWNSTAIRS                37  \n",
      "WALKING_UPSTAIRS                 466  \n"
     ]
    }
   ],
   "source": [
    "# Confusion Matrix\n",
    "print(confusion_matrix(Y_test, model.predict(X_test)))"
   ]
  },
  {
   "cell_type": "code",
   "execution_count": 27,
   "metadata": {},
   "outputs": [
    {
     "name": "stdout",
     "output_type": "stream",
     "text": [
      "2947/2947 [==============================] - 8s 3ms/step\n"
     ]
    }
   ],
   "source": [
    "score = model.evaluate(X_test, Y_test)"
   ]
  },
  {
   "cell_type": "code",
   "execution_count": 28,
   "metadata": {},
   "outputs": [
    {
     "data": {
      "text/plain": [
       "[0.4163782881195881, 0.9046487953851374]"
      ]
     },
     "execution_count": 28,
     "metadata": {},
     "output_type": "execute_result"
    }
   ],
   "source": [
    "score"
   ]
  },
  {
   "cell_type": "markdown",
   "metadata": {},
   "source": [
    "### Model-5:"
   ]
  },
  {
   "cell_type": "code",
   "execution_count": 52,
   "metadata": {},
   "outputs": [],
   "source": []
  },
  {
   "cell_type": "code",
   "execution_count": 53,
   "metadata": {},
   "outputs": [
    {
     "name": "stdout",
     "output_type": "stream",
     "text": [
      "Model Summary: \n",
      "Model: \"sequential_6\"\n",
      "_________________________________________________________________\n",
      "Layer (type)                 Output Shape              Param #   \n",
      "=================================================================\n",
      "lstm_10 (LSTM)               (None, 128, 100)          44000     \n",
      "_________________________________________________________________\n",
      "batch_normalization_5 (Batch (None, 128, 100)          400       \n",
      "_________________________________________________________________\n",
      "dropout_9 (Dropout)          (None, 128, 100)          0         \n",
      "_________________________________________________________________\n",
      "lstm_11 (LSTM)               (None, 50)                30200     \n",
      "_________________________________________________________________\n",
      "dropout_10 (Dropout)         (None, 50)                0         \n",
      "_________________________________________________________________\n",
      "dense_5 (Dense)              (None, 6)                 306       \n",
      "=================================================================\n",
      "Total params: 74,906\n",
      "Trainable params: 74,706\n",
      "Non-trainable params: 200\n",
      "_________________________________________________________________\n"
     ]
    }
   ],
   "source": [
    "model = Sequential()\n",
    "model.add(LSTM(100, input_shape=(timesteps, input_dim), kernel_initializer='glorot_normal' , return_sequences=True, bias_regularizer=reg))\n",
    "model.add(BatchNormalization())\n",
    "model.add(Dropout(0.70))\n",
    "model.add(LSTM(50))\n",
    "model.add(Dropout(0.70))\n",
    "model.add(Dense(n_classes, activation='sigmoid'))\n",
    "print(\"Model Summary: \")\n",
    "model.summary()"
   ]
  },
  {
   "cell_type": "code",
   "execution_count": 56,
   "metadata": {},
   "outputs": [],
   "source": [
    "# Compiling the model\n",
    "model.compile(loss='binary_crossentropy',\n",
    "              optimizer='rmsprop',\n",
    "              metrics=['accuracy'])\n",
    "checkpoint_3 = ModelCheckpoint(\"model_7.h5\",monitor=\"val_acc\",mode=\"max\",save_best_only = True,verbose=1)"
   ]
  },
  {
   "cell_type": "code",
   "execution_count": 57,
   "metadata": {
    "scrolled": true
   },
   "outputs": [
    {
     "name": "stdout",
     "output_type": "stream",
     "text": [
      "Train on 7352 samples, validate on 2947 samples\n",
      "Epoch 1/20\n",
      "7352/7352 [==============================] - 244s 33ms/step - loss: 1.7097 - acc: 0.8483 - val_loss: 1.0533 - val_acc: 0.8947\n",
      "\n",
      "Epoch 00001: val_acc improved from -inf to 0.89470, saving model to model_7.h5\n",
      "Epoch 2/20\n",
      "7352/7352 [==============================] - 249s 34ms/step - loss: 0.6515 - acc: 0.9053 - val_loss: 0.2413 - val_acc: 0.9536\n",
      "\n",
      "Epoch 00002: val_acc improved from 0.89470 to 0.95357, saving model to model_7.h5\n",
      "Epoch 3/20\n",
      "7352/7352 [==============================] - 240s 33ms/step - loss: 0.1730 - acc: 0.9407 - val_loss: 0.1105 - val_acc: 0.9600\n",
      "\n",
      "Epoch 00003: val_acc improved from 0.95357 to 0.96002, saving model to model_7.h5\n",
      "Epoch 4/20\n",
      "7352/7352 [==============================] - 243s 33ms/step - loss: 0.1270 - acc: 0.9586 - val_loss: 0.1410 - val_acc: 0.9484\n",
      "\n",
      "Epoch 00004: val_acc did not improve from 0.96002\n",
      "Epoch 5/20\n",
      "7352/7352 [==============================] - 253s 34ms/step - loss: 0.1128 - acc: 0.9617 - val_loss: 0.1013 - val_acc: 0.9673\n",
      "\n",
      "Epoch 00005: val_acc improved from 0.96002 to 0.96725, saving model to model_7.h5\n",
      "Epoch 6/20\n",
      "7352/7352 [==============================] - 247s 34ms/step - loss: 0.1016 - acc: 0.9652 - val_loss: 0.0821 - val_acc: 0.9706\n",
      "\n",
      "Epoch 00006: val_acc improved from 0.96725 to 0.97059, saving model to model_7.h5\n",
      "Epoch 7/20\n",
      "7352/7352 [==============================] - 248s 34ms/step - loss: 0.0906 - acc: 0.9697 - val_loss: 0.1346 - val_acc: 0.9522\n",
      "\n",
      "Epoch 00007: val_acc did not improve from 0.97059\n",
      "Epoch 8/20\n",
      "7352/7352 [==============================] - 257s 35ms/step - loss: 0.0874 - acc: 0.9704 - val_loss: 0.1169 - val_acc: 0.9579\n",
      "\n",
      "Epoch 00008: val_acc did not improve from 0.97059\n",
      "Epoch 9/20\n",
      "7352/7352 [==============================] - 265s 36ms/step - loss: 0.0859 - acc: 0.9700 - val_loss: 0.1319 - val_acc: 0.9574\n",
      "\n",
      "Epoch 00009: val_acc did not improve from 0.97059\n",
      "Epoch 10/20\n",
      "7352/7352 [==============================] - 264s 36ms/step - loss: 0.0807 - acc: 0.9726 - val_loss: 0.0992 - val_acc: 0.9663\n",
      "\n",
      "Epoch 00010: val_acc did not improve from 0.97059\n",
      "Epoch 11/20\n",
      "7352/7352 [==============================] - 249s 34ms/step - loss: 0.0816 - acc: 0.9730 - val_loss: 0.0948 - val_acc: 0.9680\n",
      "\n",
      "Epoch 00011: val_acc did not improve from 0.97059\n",
      "Epoch 12/20\n",
      "7352/7352 [==============================] - 255s 35ms/step - loss: 0.0767 - acc: 0.9729 - val_loss: 0.1639 - val_acc: 0.9501\n",
      "\n",
      "Epoch 00012: val_acc did not improve from 0.97059\n",
      "Epoch 13/20\n",
      "7352/7352 [==============================] - 263s 36ms/step - loss: 0.0767 - acc: 0.9724 - val_loss: 0.1193 - val_acc: 0.9649\n",
      "\n",
      "Epoch 00013: val_acc did not improve from 0.97059\n",
      "Epoch 14/20\n",
      "7352/7352 [==============================] - 270s 37ms/step - loss: 0.0733 - acc: 0.9738 - val_loss: 0.1060 - val_acc: 0.9657\n",
      "\n",
      "Epoch 00014: val_acc did not improve from 0.97059\n",
      "Epoch 15/20\n",
      "7352/7352 [==============================] - 289s 39ms/step - loss: 0.0737 - acc: 0.9738 - val_loss: 0.0743 - val_acc: 0.9751\n",
      "\n",
      "Epoch 00015: val_acc improved from 0.97059 to 0.97512, saving model to model_7.h5\n",
      "Epoch 16/20\n",
      "7352/7352 [==============================] - 300s 41ms/step - loss: 0.0722 - acc: 0.9745 - val_loss: 0.1129 - val_acc: 0.9722\n",
      "\n",
      "Epoch 00016: val_acc did not improve from 0.97512\n",
      "Epoch 17/20\n",
      "7352/7352 [==============================] - 295s 40ms/step - loss: 0.0723 - acc: 0.9751 - val_loss: 0.0909 - val_acc: 0.9710\n",
      "\n",
      "Epoch 00017: val_acc did not improve from 0.97512\n",
      "Epoch 18/20\n",
      "7352/7352 [==============================] - 358s 49ms/step - loss: 0.0701 - acc: 0.9752 - val_loss: 0.1355 - val_acc: 0.9623\n",
      "\n",
      "Epoch 00018: val_acc did not improve from 0.97512\n",
      "Epoch 19/20\n",
      "7352/7352 [==============================] - 329s 45ms/step - loss: 0.0715 - acc: 0.9743 - val_loss: 0.0846 - val_acc: 0.9731\n",
      "\n",
      "Epoch 00019: val_acc did not improve from 0.97512\n",
      "Epoch 20/20\n",
      "7352/7352 [==============================] - 275s 37ms/step - loss: 0.0684 - acc: 0.9748 - val_loss: 0.0841 - val_acc: 0.9748\n",
      "\n",
      "Epoch 00020: val_acc did not improve from 0.97512\n"
     ]
    },
    {
     "data": {
      "text/plain": [
       "<keras.callbacks.History at 0x15c9fe36f28>"
      ]
     },
     "execution_count": 57,
     "metadata": {},
     "output_type": "execute_result"
    }
   ],
   "source": [
    "# Training the model\n",
    "model.fit(X_train,\n",
    "          Y_train,\n",
    "          batch_size=batch_size,\n",
    "          validation_data=(X_test, Y_test),\n",
    "          epochs=20,callbacks=[checkpoint_3])"
   ]
  },
  {
   "cell_type": "code",
   "execution_count": 58,
   "metadata": {},
   "outputs": [],
   "source": [
    "model = load_model('model_7.h5')"
   ]
  },
  {
   "cell_type": "code",
   "execution_count": 59,
   "metadata": {},
   "outputs": [
    {
     "name": "stdout",
     "output_type": "stream",
     "text": [
      "Pred                LAYING  SITTING  STANDING  WALKING  WALKING_DOWNSTAIRS  \\\n",
      "True                                                                         \n",
      "LAYING                 537        0         0        0                   0   \n",
      "SITTING                 20      419        51        0                   0   \n",
      "STANDING                 0      116       416        0                   0   \n",
      "WALKING                  0        0         2      490                   3   \n",
      "WALKING_DOWNSTAIRS       0        0         0        0                 420   \n",
      "WALKING_UPSTAIRS         0        1         0       11                  10   \n",
      "\n",
      "Pred                WALKING_UPSTAIRS  \n",
      "True                                  \n",
      "LAYING                             0  \n",
      "SITTING                            1  \n",
      "STANDING                           0  \n",
      "WALKING                            1  \n",
      "WALKING_DOWNSTAIRS                 0  \n",
      "WALKING_UPSTAIRS                 449  \n"
     ]
    }
   ],
   "source": [
    "# Confusion Matrix\n",
    "print(confusion_matrix(Y_test, model.predict(X_test)))"
   ]
  },
  {
   "cell_type": "code",
   "execution_count": 60,
   "metadata": {},
   "outputs": [
    {
     "name": "stdout",
     "output_type": "stream",
     "text": [
      "2947/2947 [==============================] - 18s 6ms/step\n"
     ]
    }
   ],
   "source": [
    "score = model.evaluate(X_test, Y_test)"
   ]
  },
  {
   "cell_type": "code",
   "execution_count": 61,
   "metadata": {},
   "outputs": [
    {
     "data": {
      "text/plain": [
       "[0.07431104327187013, 0.9751159407787497]"
      ]
     },
     "execution_count": 61,
     "metadata": {},
     "output_type": "execute_result"
    }
   ],
   "source": [
    "score"
   ]
  },
  {
   "cell_type": "code",
   "execution_count": null,
   "metadata": {},
   "outputs": [],
   "source": []
  },
  {
   "cell_type": "markdown",
   "metadata": {},
   "source": [
    "## Results(PrettyTable):"
   ]
  },
  {
   "cell_type": "code",
   "execution_count": 3,
   "metadata": {},
   "outputs": [
    {
     "name": "stdout",
     "output_type": "stream",
     "text": [
      "+-------+------------------------------------------------+-----------+---------------+\n",
      "| Model |                  Description                   | Test loss | Test Accuracy |\n",
      "+-------+------------------------------------------------+-----------+---------------+\n",
      "|   1   |              1 Layer of LSTM(40)               |   0.5031  |     0.8893    |\n",
      "|   2   | 2 layers of LSTM, BN, Categoricalcross_entropy |   0.2544  |     0.9338    |\n",
      "|   3   |              1 Layer of LSTM(70)               |   0.4624  |     0.8988    |\n",
      "|   4   |              1 Layer of LSTM(50)               |   0.4163  |     0.9046    |\n",
      "|   5   |   2 layers of LSTM, BN, Binarycross_entropy    |   0.0743  |     0.9751    |\n",
      "+-------+------------------------------------------------+-----------+---------------+\n"
     ]
    }
   ],
   "source": [
    "from prettytable import PrettyTable\n",
    "x = PrettyTable()\n",
    "x.field_names = [\"Model\",\"Description\", \"Test loss\", \"Test Accuracy\"]\n",
    "x.add_row([\"1\",\"1 Layer of LSTM(40)\",\"0.5031\", \"0.8893\"])\n",
    "x.add_row([\"2\",\"2 layers of LSTM, BN, Categoricalcross_entropy\",\"0.2544\", \"0.9338\"])\n",
    "x.add_row([\"3\",\"1 Layer of LSTM(70)\",\"0.4624\", \"0.8988\"])\n",
    "x.add_row([\"4\",\"1 Layer of LSTM(50)\",\"0.4163\", \"0.9046\"])\n",
    "x.add_row([\"5\",\"2 layers of LSTM, BN, Binarycross_entropy\",\"0.0743\", \"0.9751\"])\n",
    "print(x)"
   ]
  },
  {
   "cell_type": "markdown",
   "metadata": {},
   "source": [
    "## Conclusions:\n",
    "1. First i've used a single LSTM layer with 40 units, and got 0.88\n",
    "2. Then  i used 2 layers of LSTM  follwed by Batch normalizationn with categorical cross entropy and got 0.93\n",
    "3. For the 3rd and 4th model ,i used 1 Layer of LSTM with 70,50 units respectively and got a accuracy of 0.90\n",
    "4. Now For 5th model i've used 2 Layers of LSTM with Binary cross entropy along with Batch normalization,with some dropout and got accuracy of 0.97"
   ]
  },
  {
   "cell_type": "code",
   "execution_count": null,
   "metadata": {},
   "outputs": [],
   "source": []
  }
 ],
 "metadata": {
  "kernelspec": {
   "display_name": "Python 3",
   "language": "python",
   "name": "python3"
  },
  "language_info": {
   "codemirror_mode": {
    "name": "ipython",
    "version": 3
   },
   "file_extension": ".py",
   "mimetype": "text/x-python",
   "name": "python",
   "nbconvert_exporter": "python",
   "pygments_lexer": "ipython3",
   "version": "3.6.8"
  }
 },
 "nbformat": 4,
 "nbformat_minor": 2
}
